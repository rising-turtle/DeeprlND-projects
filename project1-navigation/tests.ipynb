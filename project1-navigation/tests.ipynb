{
 "cells": [
  {
   "cell_type": "markdown",
   "metadata": {},
   "source": [
    "# Some *tests* of the inner functionality of the whole dqn package"
   ]
  },
  {
   "cell_type": "markdown",
   "metadata": {},
   "source": [
    "## (a) Testing unity ml-agents env wrapper"
   ]
  },
  {
   "cell_type": "code",
   "execution_count": null,
   "metadata": {},
   "outputs": [],
   "source": [
    "import os\n",
    "import sys\n",
    "import numpy as np\n",
    "\n",
    "from navigation.envs import mlagents"
   ]
  },
  {
   "cell_type": "code",
   "execution_count": null,
   "metadata": {},
   "outputs": [],
   "source": [
    "# definitions for full paths to executables\n",
    "EXEC_BANANA_PATH = os.path.join( os.getcwd(), 'executables/Banana_Linux/Banana.x86_64' )\n",
    "EXEC_BANANA_NOVIS_PATH = os.path.join( os.getcwd(), 'executables/Banana_Linux_NoVis/Banana.x86_64' )"
   ]
  },
  {
   "cell_type": "code",
   "execution_count": null,
   "metadata": {},
   "outputs": [],
   "source": [
    "# initialize the environment\n",
    "_env = mlagents.createDiscreteActionsEnv( EXEC_BANANA_PATH )\n",
    "## _env = mlagents.createDiscreteActionsEnv( EXEC_BANANA_NOVIS_PATH )"
   ]
  },
  {
   "cell_type": "code",
   "execution_count": null,
   "metadata": {},
   "outputs": [],
   "source": [
    "print( 'numActions: ', _env.numActions )\n",
    "print( 'obsShape: ', _env.obsShape )"
   ]
  },
  {
   "cell_type": "code",
   "execution_count": null,
   "metadata": {},
   "outputs": [],
   "source": [
    "_state = _env.reset( training = False )\n",
    "print( '_state.shape: ', _state.shape )\n",
    "print( '_state:' )\n",
    "_raysState = _state[:-2].reshape( 7, -1 )\n",
    "print( '_raysState: ' )\n",
    "print( _raysState )\n",
    "\n",
    "def process( state ) :\n",
    "    return state[:-2].reshape( 7, -1 )"
   ]
  },
  {
   "cell_type": "code",
   "execution_count": null,
   "metadata": {},
   "outputs": [],
   "source": [
    "_raysState[:,[0,2,4]]"
   ]
  },
  {
   "cell_type": "code",
   "execution_count": null,
   "metadata": {},
   "outputs": [],
   "source": [
    "_state = _env.reset( training = False )\n",
    "\n",
    "while True :\n",
    "    \n",
    "    _action = np.random.randint( _env.numActions )\n",
    "    _snext, _reward, _done, _ = _env.step( 2 )\n",
    "    \n",
    "    print( '#######################' )\n",
    "    print( '_snext: ' )\n",
    "    print( process( _snext ) )\n",
    "    print( '_reward: ', _reward )\n",
    "    print( '_done: ', _done )\n",
    "    \n",
    "    if _done :\n",
    "        break\n",
    "\n",
    "_env.close()"
   ]
  },
  {
   "cell_type": "markdown",
   "metadata": {},
   "source": [
    "## Testing the sumtree data structure"
   ]
  },
  {
   "cell_type": "code",
   "execution_count": null,
   "metadata": {},
   "outputs": [],
   "source": [
    "import numpy as np\n",
    "import matplotlib.pyplot as plt\n",
    "from navigation.dqn.utils import sumtree"
   ]
  },
  {
   "cell_type": "code",
   "execution_count": null,
   "metadata": {},
   "outputs": [],
   "source": [
    "smtree = sumtree.SumTree(8)\n",
    "\n",
    "smtree.add( 'a', 3 )\n",
    "smtree.add( 'b', 10 )\n",
    "smtree.add( 'c', 12 )\n",
    "smtree.add( 'd', 4 )\n",
    "smtree.add( 'e', 1 )\n",
    "smtree.add( 'f', 2 )\n",
    "smtree.add( 'g', 8 )\n",
    "smtree.add( 'h', 2 )"
   ]
  },
  {
   "cell_type": "code",
   "execution_count": null,
   "metadata": {},
   "outputs": [],
   "source": [
    "print( 'arr-tree: ', smtree._tree )\n",
    "print( 'data: ', smtree._data )"
   ]
  },
  {
   "cell_type": "markdown",
   "metadata": {},
   "source": [
    "### testing sampling method"
   ]
  },
  {
   "cell_type": "code",
   "execution_count": null,
   "metadata": {},
   "outputs": [],
   "source": [
    "_val = 42. * np.random.random()\n",
    "_indx, _nodeval, _data = smtree.getNode( _val )\n",
    "print( 'sampled (%s), with nodeval=%.2f and indx=%i, for value=%.2f' % ( _data, _nodeval, _indx, _val )  )"
   ]
  },
  {
   "cell_type": "markdown",
   "metadata": {},
   "source": [
    "### checking the probability distribution given by the node values"
   ]
  },
  {
   "cell_type": "code",
   "execution_count": null,
   "metadata": {},
   "outputs": [],
   "source": [
    "NSAMPLES = 10000\n",
    "BUCKETS = [0] * len( smtree._data )\n",
    "for _ in range( NSAMPLES ) :\n",
    "    _indx, _, _data = smtree.getNode( 42. * np.random.random() )\n",
    "    BUCKETS[_indx - len( smtree._data ) + 1] += 1\n",
    "    \n",
    "plt.bar( ['a','b','c','d','e','f','g','h'], BUCKETS )\n",
    "plt.show()    "
   ]
  },
  {
   "cell_type": "markdown",
   "metadata": {},
   "source": [
    "## Testing the priority buffer for Prioritized Exp. Replay"
   ]
  },
  {
   "cell_type": "code",
   "execution_count": 55,
   "metadata": {},
   "outputs": [
    {
     "data": {
      "text/plain": [
       "1"
      ]
     },
     "execution_count": 55,
     "metadata": {},
     "output_type": "execute_result"
    }
   ],
   "source": [
    "import numpy as np\n",
    "from navigation.dqn.utils import prioritybuffer\n",
    "\n",
    "pbuffer = prioritybuffer.PriorityBuffer( 128, 0 )\n",
    "pbuffer.add( [0.0, 1.0], 0, [0.1, 1.1], 0, False )\n",
    "\n",
    "pbuffer._maxpriority"
   ]
  },
  {
   "cell_type": "code",
   "execution_count": 56,
   "metadata": {},
   "outputs": [
    {
     "name": "stdout",
     "output_type": "stream",
     "text": [
      "states:  [[0. 1.]]\n",
      "actions:  [0]\n",
      "nextstates:  [[0.1 1.1]]\n",
      "rewards:  [0]\n",
      "endflags:  [0]\n",
      "treeindices:  [127]\n",
      "importance sampling weights:  [1.]\n"
     ]
    }
   ],
   "source": [
    "## see here, a warning due to non-zero division (it's taking min over all possible values in data buffer)\n",
    "## have to fix by keeping the min somewhere else and updated, and then use it for this calculation\n",
    "## one way: keep a variable for the running min (O(1) to grab, O(BatchSize) to update-> np.min->batch)\n",
    "## another way: keep a mintree that will return the min value in O(log(n) + k)\n",
    "_states, _actions, _nextStates, _rewards, _endflags, _indicesBatch, _isWeights = pbuffer.sample( 1 )\n",
    "\n",
    "print( 'states: ', _states )\n",
    "print( 'actions: ', _actions )\n",
    "print( 'nextstates: ', _nextStates )\n",
    "print( 'rewards: ', _rewards )\n",
    "print( 'endflags: ', _endflags )\n",
    "print( 'treeindices: ', _indicesBatch )\n",
    "print( 'importance sampling weights: ', _isWeights )"
   ]
  },
  {
   "cell_type": "code",
   "execution_count": 57,
   "metadata": {},
   "outputs": [],
   "source": [
    "pbuffer.add( [0.2, 1.2], 1, [0.1, 1.1], 0, False )"
   ]
  },
  {
   "cell_type": "code",
   "execution_count": 58,
   "metadata": {},
   "outputs": [
    {
     "name": "stdout",
     "output_type": "stream",
     "text": [
      "states:  [[0. 1.]]\n",
      "actions:  [0]\n",
      "nextstates:  [[0.1 1.1]]\n",
      "rewards:  [0]\n",
      "endflags:  [0]\n",
      "treeindices:  [127]\n",
      "importance sampling weights:  [1.]\n"
     ]
    }
   ],
   "source": [
    "_states, _actions, _nextStates, _rewards, _endflags, _indicesBatch, _isWeights = pbuffer.sample( 1 )\n",
    "\n",
    "print( 'states: ', _states )\n",
    "print( 'actions: ', _actions )\n",
    "print( 'nextstates: ', _nextStates )\n",
    "print( 'rewards: ', _rewards )\n",
    "print( 'endflags: ', _endflags )\n",
    "print( 'treeindices: ', _indicesBatch )\n",
    "print( 'importance sampling weights: ', _isWeights )"
   ]
  },
  {
   "cell_type": "code",
   "execution_count": 59,
   "metadata": {},
   "outputs": [],
   "source": [
    "pbuffer.updatePriorities( np.array( [128] ), np.array( [100.] ) )"
   ]
  },
  {
   "cell_type": "code",
   "execution_count": 60,
   "metadata": {},
   "outputs": [
    {
     "name": "stdout",
     "output_type": "stream",
     "text": [
      "states:  [[0.2 1.2]]\n",
      "actions:  [1]\n",
      "nextstates:  [[0.1 1.1]]\n",
      "rewards:  [0]\n",
      "endflags:  [0]\n",
      "treeindices:  [128]\n",
      "importance sampling weights:  [0.33850375]\n"
     ]
    }
   ],
   "source": [
    "_states, _actions, _nextStates, _rewards, _endflags, _indicesBatch, _isWeights = pbuffer.sample( 1 )\n",
    "\n",
    "print( 'states: ', _states )\n",
    "print( 'actions: ', _actions )\n",
    "print( 'nextstates: ', _nextStates )\n",
    "print( 'rewards: ', _rewards )\n",
    "print( 'endflags: ', _endflags )\n",
    "print( 'treeindices: ', _indicesBatch )\n",
    "print( 'importance sampling weights: ', _isWeights )"
   ]
  },
  {
   "cell_type": "code",
   "execution_count": 61,
   "metadata": {},
   "outputs": [
    {
     "data": {
      "text/plain": [
       "15.84988284150878"
      ]
     },
     "execution_count": 61,
     "metadata": {},
     "output_type": "execute_result"
    }
   ],
   "source": [
    "pbuffer._maxpriority"
   ]
  },
  {
   "cell_type": "markdown",
   "metadata": {},
   "source": [
    "## Testing segmentrees from various implementations\n",
    "\n",
    "* Adaptation from openai-baselines + other sources\n",
    "* OpenAI-baselines"
   ]
  },
  {
   "cell_type": "code",
   "execution_count": null,
   "metadata": {},
   "outputs": [],
   "source": [
    "import numpy as np\n",
    "import matplotlib.pyplot as plt\n",
    "from navigation.dqn.utils import sumtree\n",
    "from navigation.dqn.utils import segmentree"
   ]
  },
  {
   "cell_type": "code",
   "execution_count": null,
   "metadata": {},
   "outputs": [],
   "source": [
    "smtree1 = sumtree.SumTree(8)\n",
    "smtree2 = segmentree.SumTree(8)\n",
    "\n",
    "_nodevals = { 'a' : 3, 'b' : 10, 'c' : 12, 'd' : 4, 'e' : 1, 'f' : 2, 'g' : 8, 'h' : 2 }\n",
    "\n",
    "for key in _nodevals.keys() :\n",
    "    smtree1.add( key, _nodevals[key] )\n",
    "    smtree2.add( key, _nodevals[key] )\n"
   ]
  },
  {
   "cell_type": "code",
   "execution_count": null,
   "metadata": {},
   "outputs": [],
   "source": [
    "smtree1.total()"
   ]
  },
  {
   "cell_type": "code",
   "execution_count": null,
   "metadata": {},
   "outputs": [],
   "source": [
    "smtree2.sum()"
   ]
  },
  {
   "cell_type": "markdown",
   "metadata": {},
   "source": [
    "### checking update functionality"
   ]
  },
  {
   "cell_type": "code",
   "execution_count": null,
   "metadata": {},
   "outputs": [],
   "source": [
    "# data, tree and sum before the update\n",
    "print( 'data: ', smtree2._data  )\n",
    "print( 'tree: ', smtree2._tree )\n",
    "print( 'sum: ', smtree2.sum() )\n",
    "\n",
    "# do an update (change 'a' from nodeval 3 to nodeval 5)\n",
    "smtree2.update( 7, 5 )\n",
    "\n",
    "# data, tree and sum after the update\n",
    "print( 'data: ', smtree2._data  )\n",
    "print( 'tree: ', smtree2._tree )\n",
    "print( 'sum: ', smtree2.sum() )"
   ]
  },
  {
   "cell_type": "markdown",
   "metadata": {},
   "source": [
    "### checking the probability distribution generated from both"
   ]
  },
  {
   "cell_type": "code",
   "execution_count": null,
   "metadata": {},
   "outputs": [],
   "source": [
    "NSAMPLES = 100000\n",
    "BUCKETS1 = [0] * len( smtree1._data )\n",
    "BUCKETS2 = [0] * len( smtree2._data )\n",
    "for _ in range( NSAMPLES ) :\n",
    "    _rnd = np.random.random()\n",
    "    \n",
    "    _indx, _, _data = smtree1.getNode( smtree1.total() * _rnd )\n",
    "    BUCKETS1[_indx - len( smtree1._data ) + 1] += 1\n",
    "    \n",
    "    _indx, _, _data = smtree2.getNode( smtree2.sum() * _rnd )\n",
    "    BUCKETS2[_indx - len( smtree2._data ) + 1] += 1\n",
    "    \n",
    "fig1, ax1 = plt.subplots()\n",
    "ax1.bar( ['a','b','c','d','e','f','g','h'], BUCKETS1 )\n",
    "\n",
    "fig2, ax2 = plt.subplots()\n",
    "ax2.bar( ['a','b','c','d','e','f','g','h'], BUCKETS2 )\n",
    "plt.show()    "
   ]
  },
  {
   "cell_type": "markdown",
   "metadata": {},
   "source": [
    "### testing the mintree"
   ]
  },
  {
   "cell_type": "code",
   "execution_count": null,
   "metadata": {},
   "outputs": [],
   "source": [
    "mintree = segmentree.MinTree(8)\n",
    "mintree.add( 'a', 1 )\n",
    "mintree.add( 'b', 3 )\n",
    "mintree.add( 'c', 5 )\n",
    "mintree.add( 'd', 0 )\n",
    "\n",
    "print( 'min: ', mintree.min() )\n",
    "\n",
    "mintree.add( 'e', -1 )\n",
    "\n",
    "print( 'min: ', mintree.min() )\n",
    "\n",
    "mintree.add( 'f', 10 )\n",
    "\n",
    "print( 'min: ', mintree.min() )"
   ]
  },
  {
   "cell_type": "markdown",
   "metadata": {},
   "source": [
    "### testing openai-baselines segmentree"
   ]
  },
  {
   "cell_type": "code",
   "execution_count": null,
   "metadata": {},
   "outputs": [],
   "source": [
    "from navigation.dqn.utils import openai_segmentree as op_segmentree"
   ]
  },
  {
   "cell_type": "code",
   "execution_count": null,
   "metadata": {},
   "outputs": [],
   "source": [
    "# a simple test case\n",
    "smtree3 = op_segmentree.SumSegmentTree(8)\n",
    "\n",
    "smtree3[0] = 3\n",
    "smtree3[1] = 10\n",
    "smtree3[2] = 12\n",
    "smtree3[3] = 4\n",
    "smtree3[4] = 1\n",
    "smtree3[5] = 2\n",
    "smtree3[6] = 8\n",
    "smtree3[7] = 2\n",
    "\n",
    "print( 'sum: ', smtree3.sum() )"
   ]
  },
  {
   "cell_type": "code",
   "execution_count": null,
   "metadata": {},
   "outputs": [],
   "source": [
    "_sum1 = smtree1.total()\n",
    "_sum2 = smtree2.sum()\n",
    "_sum3 = smtree3.sum()\n",
    "\n",
    "assert (_sum1 == _sum2) and (_sum2 == _sum3), 'ERROR> sumtrees should return same total cumsum'\n",
    "\n",
    "_nodeval = _sum1 * np.random.random()\n",
    "\n",
    "_indx1, _, _ = smtree1.getNode( _nodeval )\n",
    "_indx2, _, _ = smtree2.getNode( _nodeval )\n",
    "_indx3 = smtree3.find_prefixsum_idx( _nodeval ) + smtree3._capacity - 1\n",
    "\n",
    "print( 'indx1: ', _indx1 )\n",
    "print( 'indx2: ', _indx2 )\n",
    "print( 'indx3: ', _indx3 )"
   ]
  }
 ],
 "metadata": {
  "kernelspec": {
   "display_name": "Python 3",
   "language": "python",
   "name": "python3"
  },
  "language_info": {
   "codemirror_mode": {
    "name": "ipython",
    "version": 3
   },
   "file_extension": ".py",
   "mimetype": "text/x-python",
   "name": "python",
   "nbconvert_exporter": "python",
   "pygments_lexer": "ipython3",
   "version": "3.6.8"
  }
 },
 "nbformat": 4,
 "nbformat_minor": 2
}
