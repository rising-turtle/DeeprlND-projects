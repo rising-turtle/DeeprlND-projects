{
 "cells": [
  {
   "cell_type": "markdown",
   "metadata": {},
   "source": [
    "# Some *tests* for the inner functionality of the whole dqn package"
   ]
  },
  {
   "cell_type": "code",
   "execution_count": null,
   "metadata": {},
   "outputs": [],
   "source": [
    "import os\n",
    "import sys\n",
    "import numpy as np\n",
    "\n",
    "from navigation.envs import mlagents"
   ]
  },
  {
   "cell_type": "code",
   "execution_count": null,
   "metadata": {},
   "outputs": [],
   "source": [
    "# definitions for full paths to executables\n",
    "EXEC_BANANA_PATH = os.path.join( os.getcwd(), 'executables/Banana_Linux/Banana.x86_64' )\n",
    "EXEC_BANANA_NOVIS_PATH = os.path.join( os.getcwd(), 'executables/Banana_Linux_NoVis/Banana.x86_64' )"
   ]
  },
  {
   "cell_type": "code",
   "execution_count": null,
   "metadata": {},
   "outputs": [],
   "source": [
    "# initialize the environment\n",
    "_env = mlagents.createDiscreteActionsEnv( EXEC_BANANA_PATH )\n",
    "## _env = mlagents.createDiscreteActionsEnv( EXEC_BANANA_NOVIS_PATH )"
   ]
  },
  {
   "cell_type": "code",
   "execution_count": null,
   "metadata": {},
   "outputs": [],
   "source": [
    "print( 'numActions: ', _env.numActions )\n",
    "print( 'obsShape: ', _env.obsShape )"
   ]
  },
  {
   "cell_type": "code",
   "execution_count": null,
   "metadata": {},
   "outputs": [],
   "source": [
    "_state = _env.reset( training = False )\n",
    "print( '_state.shape: ', _state.shape )\n",
    "print( '_state:' )\n",
    "_raysState = _state[:-2].reshape( 7, -1 )\n",
    "print( '_raysState: ' )\n",
    "print( _raysState )\n",
    "\n",
    "def process( state ) :\n",
    "    return state[:-2].reshape( 7, -1 )"
   ]
  },
  {
   "cell_type": "code",
   "execution_count": null,
   "metadata": {},
   "outputs": [],
   "source": [
    "_raysState[:,[0,2,4]]"
   ]
  },
  {
   "cell_type": "code",
   "execution_count": null,
   "metadata": {},
   "outputs": [],
   "source": [
    "_state = _env.reset( training = False )\n",
    "\n",
    "while True :\n",
    "    \n",
    "    _action = np.random.randint( _env.numActions )\n",
    "    _snext, _reward, _done, _ = _env.step( 2 )\n",
    "    \n",
    "    print( '#######################' )\n",
    "    print( '_snext: ' )\n",
    "    print( process( _snext ) )\n",
    "    print( '_reward: ', _reward )\n",
    "    print( '_done: ', _done )\n",
    "    \n",
    "    if _done :\n",
    "        break\n",
    "\n",
    "_env.close()"
   ]
  },
  {
   "cell_type": "markdown",
   "metadata": {},
   "source": [
    "## Testing the sumtree data structure"
   ]
  },
  {
   "cell_type": "code",
   "execution_count": 63,
   "metadata": {},
   "outputs": [],
   "source": [
    "import numpy as np\n",
    "import matplotlib.pyplot as plt\n",
    "from navigation.dqn.utils import sumtree"
   ]
  },
  {
   "cell_type": "code",
   "execution_count": 19,
   "metadata": {},
   "outputs": [],
   "source": [
    "smtree = sumtree.SumTree(8)\n",
    "\n",
    "smtree.add( 'a', 3 )\n",
    "smtree.add( 'b', 10 )\n",
    "smtree.add( 'c', 12 )\n",
    "smtree.add( 'd', 4 )\n",
    "smtree.add( 'e', 1 )\n",
    "smtree.add( 'f', 2 )\n",
    "smtree.add( 'g', 8 )\n",
    "smtree.add( 'h', 2 )"
   ]
  },
  {
   "cell_type": "code",
   "execution_count": 20,
   "metadata": {},
   "outputs": [
    {
     "name": "stdout",
     "output_type": "stream",
     "text": [
      "arr-tree:  [42. 29. 13. 13. 16.  3. 10.  3. 10. 12.  4.  1.  2.  8.  2.]\n",
      "data:  ['a' 'b' 'c' 'd' 'e' 'f' 'g' 'h']\n"
     ]
    }
   ],
   "source": [
    "print( 'arr-tree: ', smtree._tree )\n",
    "print( 'data: ', smtree._data )"
   ]
  },
  {
   "cell_type": "markdown",
   "metadata": {},
   "source": [
    "### testing sampling method"
   ]
  },
  {
   "cell_type": "code",
   "execution_count": 107,
   "metadata": {},
   "outputs": [
    {
     "name": "stdout",
     "output_type": "stream",
     "text": [
      "sampled (h), with nodeval=2.00 and indx=14, for value=40.79\n"
     ]
    }
   ],
   "source": [
    "_val = 42. * np.random.random()\n",
    "_indx, _nodeval, _data = smtree.getNode( _val )\n",
    "print( 'sampled (%s), with nodeval=%.2f and indx=%i, for value=%.2f' % ( _data, _nodeval, _indx, _val )  )"
   ]
  },
  {
   "cell_type": "markdown",
   "metadata": {},
   "source": [
    "### checking the probability distribution given by the node values"
   ]
  },
  {
   "cell_type": "code",
   "execution_count": 106,
   "metadata": {},
   "outputs": [
    {
     "data": {
      "image/png": "[encoded data removed]",
      "text/plain": [
       "<Figure size 432x288 with 1 Axes>"
      ]
     },
     "metadata": {
      "needs_background": "light"
     },
     "output_type": "display_data"
    }
   ],
   "source": [
    "NSAMPLES = 10000\n",
    "BUCKETS = [0] * len( smtree._data )\n",
    "for _ in range( NSAMPLES ) :\n",
    "    _indx, _, _data = smtree.getNode( 42. * np.random.random() )\n",
    "    BUCKETS[_indx - len( smtree._data ) + 1] += 1\n",
    "    \n",
    "plt.bar( ['a','b','c','d','e','f','g','h'], BUCKETS )\n",
    "plt.show()    "
   ]
  }
 ],
 "metadata": {
  "kernelspec": {
   "display_name": "Python 3",
   "language": "python",
   "name": "python3"
  },
  "language_info": {
   "codemirror_mode": {
    "name": "ipython",
    "version": 3
   },
   "file_extension": ".py",
   "mimetype": "text/x-python",
   "name": "python",
   "nbconvert_exporter": "python",
   "pygments_lexer": "ipython3",
   "version": "3.6.8"
  }
 },
 "nbformat": 4,
 "nbformat_minor": 2
}
