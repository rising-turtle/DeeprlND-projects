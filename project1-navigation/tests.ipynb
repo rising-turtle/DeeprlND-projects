{
 "cells": [
  {
   "cell_type": "markdown",
   "metadata": {},
   "source": [
    "# Some *tests* of the inner functionality of the whole dqn package"
   ]
  },
  {
   "cell_type": "markdown",
   "metadata": {},
   "source": [
    "## (a) Testing unity ml-agents env wrapper"
   ]
  },
  {
   "cell_type": "code",
   "execution_count": null,
   "metadata": {},
   "outputs": [],
   "source": [
    "import os\n",
    "import sys\n",
    "import numpy as np\n",
    "\n",
    "from navigation.envs import mlagents"
   ]
  },
  {
   "cell_type": "code",
   "execution_count": null,
   "metadata": {},
   "outputs": [],
   "source": [
    "# definitions for full paths to executables\n",
    "EXEC_BANANA_PATH = os.path.join( os.getcwd(), 'executables/Banana_Linux/Banana.x86_64' )\n",
    "# EXEC_BANANA_NOVIS_PATH = os.path.join( os.getcwd(), 'executables/Banana_Linux_NoVis/Banana.x86_64' )"
   ]
  },
  {
   "cell_type": "code",
   "execution_count": null,
   "metadata": {},
   "outputs": [],
   "source": [
    "# initialize the environment\n",
    "_env = mlagents.createDiscreteActionsEnv( EXEC_BANANA_PATH )\n",
    "## _env = mlagents.createDiscreteActionsEnv( EXEC_BANANA_NOVIS_PATH )"
   ]
  },
  {
   "cell_type": "code",
   "execution_count": null,
   "metadata": {},
   "outputs": [],
   "source": [
    "print( 'numActions: ', _env.numActions )\n",
    "print( 'obsShape: ', _env.obsShape )"
   ]
  },
  {
   "cell_type": "code",
   "execution_count": null,
   "metadata": {},
   "outputs": [],
   "source": [
    "_state = _env.reset( training = False )\n",
    "print( '_state.shape: ', _state.shape )\n",
    "print( '_state:' )\n",
    "_raysState = _state[:-2].reshape( 7, -1 )\n",
    "print( '_raysState: ' )\n",
    "print( _raysState )\n",
    "print( '\\n' )\n",
    "\n",
    "def process( state ) :\n",
    "    return state[:-2].reshape( 7, -1 )\n",
    "\n",
    "_f1 = np.array( [[0.,1.,0.,0.,2.4/13.4],\n",
    "                 [0.,0.,1.,0.,9.8/13.4],\n",
    "                 [0.,0.,1.,0.,10.8/13.4],\n",
    "                 [1.,0.,0.,0.,6.0/13.4],\n",
    "                 [1.,0.,0.,0.,2.1/13.4],\n",
    "                 [0.,0.,1.,0.,7.1/13.4],\n",
    "                 [0.,1.,0.,0.,1.3/13.4]] )\n",
    "\n",
    "_f2 = np.array( [[0.,0.,1.,0.,7.3/13.4],\n",
    "                 [0.,1.,0.,0.,6.0/13.4],\n",
    "                 [1.,0.,0.,0.,1.7/13.4],\n",
    "                 [0.,0.,0.,1.,0.],\n",
    "                 [1.,0.,0.,0.,3.7/13.4],\n",
    "                 [1.,0.,0.,0.,3.2/13.4],\n",
    "                 [0.,0.,1.,0.,1.9/13.4]] )\n",
    "\n",
    "print( 'ray-observations-shape: ', (35,) )\n",
    "print( _f1 )\n",
    "print( '\\n' )\n",
    "\n",
    "print( 'ray-observations-shape: ', (35,) )\n",
    "print( _f2 )\n",
    "print( '\\n' )"
   ]
  },
  {
   "cell_type": "code",
   "execution_count": null,
   "metadata": {},
   "outputs": [],
   "source": [
    "_raysState[:,[0,2,4]]"
   ]
  },
  {
   "cell_type": "code",
   "execution_count": null,
   "metadata": {},
   "outputs": [],
   "source": [
    "_state = _env.reset( training = False )\n",
    "\n",
    "while True :\n",
    "    \n",
    "    _action = np.random.randint( _env.numActions )\n",
    "    _snext, _reward, _done, _ = _env.step( 2 )\n",
    "    \n",
    "    print( '#######################' )\n",
    "    print( '_snext: ' )\n",
    "    print( process( _snext ) )\n",
    "    print( '_reward: ', _reward )\n",
    "    print( '_done: ', _done )\n",
    "    \n",
    "    if _done :\n",
    "        break\n",
    "\n"
   ]
  },
  {
   "cell_type": "markdown",
   "metadata": {},
   "source": [
    "## Testing the sumtree data structure"
   ]
  },
  {
   "cell_type": "code",
   "execution_count": 1,
   "metadata": {},
   "outputs": [],
   "source": [
    "import numpy as np\n",
    "import matplotlib.pyplot as plt\n",
    "from navigation.dqn.utils import sumtree"
   ]
  },
  {
   "cell_type": "code",
   "execution_count": 2,
   "metadata": {},
   "outputs": [],
   "source": [
    "smtree = sumtree.SumTree(8)\n",
    "\n",
    "smtree.add( 'a', 3 )\n",
    "smtree.add( 'b', 10 )\n",
    "smtree.add( 'c', 12 )\n",
    "smtree.add( 'd', 4 )\n",
    "smtree.add( 'e', 1 )\n",
    "smtree.add( 'f', 2 )\n",
    "smtree.add( 'g', 8 )\n",
    "smtree.add( 'h', 2 )"
   ]
  },
  {
   "cell_type": "code",
   "execution_count": 3,
   "metadata": {},
   "outputs": [
    {
     "data": {
      "text/plain": [
       "(14, 2.0, 'h')"
      ]
     },
     "execution_count": 3,
     "metadata": {},
     "output_type": "execute_result"
    }
   ],
   "source": [
    "smtree.getNode(41.99999)"
   ]
  },
  {
   "cell_type": "code",
   "execution_count": 4,
   "metadata": {},
   "outputs": [
    {
     "name": "stdout",
     "output_type": "stream",
     "text": [
      "arr-tree:  [42. 29. 13. 13. 16.  3. 10.  3. 10. 12.  4.  1.  2.  8.  2.]\n",
      "data:  ['a' 'b' 'c' 'd' 'e' 'f' 'g' 'h']\n"
     ]
    }
   ],
   "source": [
    "print( 'arr-tree: ', smtree._tree )\n",
    "print( 'data: ', smtree._data )"
   ]
  },
  {
   "cell_type": "code",
   "execution_count": 5,
   "metadata": {},
   "outputs": [
    {
     "data": {
      "text/plain": [
       "40.0"
      ]
     },
     "execution_count": 5,
     "metadata": {},
     "output_type": "execute_result"
    }
   ],
   "source": [
    "smtree = sumtree.SumTree(8)\n",
    "\n",
    "smtree.add( 'a', 3 )\n",
    "smtree.add( 'b', 10 )\n",
    "smtree.add( 'c', 12 )\n",
    "smtree.add( 'd', 4 )\n",
    "smtree.add( 'e', 1 )\n",
    "smtree.add( 'f', 2 )\n",
    "smtree.add( 'g', 8 )\n",
    "\n",
    "smtree.total()"
   ]
  },
  {
   "cell_type": "code",
   "execution_count": 6,
   "metadata": {},
   "outputs": [
    {
     "data": {
      "text/plain": [
       "array([40., 29., 11., 13., 16.,  3.,  8.,  3., 10., 12.,  4.,  1.,  2.,\n",
       "        8.,  0.])"
      ]
     },
     "execution_count": 6,
     "metadata": {},
     "output_type": "execute_result"
    }
   ],
   "source": [
    "smtree._tree"
   ]
  },
  {
   "cell_type": "code",
   "execution_count": 7,
   "metadata": {},
   "outputs": [
    {
     "data": {
      "text/plain": [
       "(13, 8.0, 'g')"
      ]
     },
     "execution_count": 7,
     "metadata": {},
     "output_type": "execute_result"
    }
   ],
   "source": [
    "smtree.getNode(39.87)"
   ]
  },
  {
   "cell_type": "markdown",
   "metadata": {},
   "source": [
    "### testing sampling method"
   ]
  },
  {
   "cell_type": "code",
   "execution_count": 8,
   "metadata": {},
   "outputs": [
    {
     "name": "stdout",
     "output_type": "stream",
     "text": [
      "sampled (a), with nodeval=3.00 and indx=7, for value=0.40\n"
     ]
    }
   ],
   "source": [
    "_val = 42. * np.random.random()\n",
    "_indx, _nodeval, _data = smtree.getNode( _val )\n",
    "print( 'sampled (%s), with nodeval=%.2f and indx=%i, for value=%.2f' % ( _data, _nodeval, _indx, _val )  )"
   ]
  },
  {
   "cell_type": "markdown",
   "metadata": {},
   "source": [
    "### checking the probability distribution given by the node values"
   ]
  },
  {
   "cell_type": "code",
   "execution_count": 9,
   "metadata": {},
   "outputs": [
    {
     "data": {
      "image/png": "[encoded data removed]",
      "text/plain": [
       "<Figure size 432x288 with 1 Axes>"
      ]
     },
     "metadata": {
      "needs_background": "light"
     },
     "output_type": "display_data"
    }
   ],
   "source": [
    "NSAMPLES = 10000\n",
    "BUCKETS = [0] * len( smtree._data )\n",
    "for _ in range( NSAMPLES ) :\n",
    "    _indx, _, _data = smtree.getNode( 42. * np.random.random() )\n",
    "    BUCKETS[_indx - len( smtree._data ) + 1] += 1\n",
    "    \n",
    "plt.bar( ['a','b','c','d','e','f','g','h'], BUCKETS )\n",
    "plt.show()    "
   ]
  },
  {
   "cell_type": "markdown",
   "metadata": {},
   "source": [
    "## Testing the priority buffer for Prioritized Exp. Replay"
   ]
  },
  {
   "cell_type": "code",
   "execution_count": 11,
   "metadata": {},
   "outputs": [
    {
     "data": {
      "text/plain": [
       "1.0"
      ]
     },
     "execution_count": 11,
     "metadata": {},
     "output_type": "execute_result"
    }
   ],
   "source": [
    "import numpy as np\n",
    "from navigation.dqn.utils import prioritybuffer\n",
    "\n",
    "pbuffer = prioritybuffer.DqnPriorityBuffer( 128, 0 )\n",
    "pbuffer.add( [0.0, 1.0], 0, [0.1, 1.1], 0, False )\n",
    "\n",
    "pbuffer._maxpriority"
   ]
  },
  {
   "cell_type": "code",
   "execution_count": 12,
   "metadata": {},
   "outputs": [
    {
     "name": "stdout",
     "output_type": "stream",
     "text": [
      "states:  [[0. 1.]]\n",
      "actions:  [0]\n",
      "nextstates:  [[0.1 1.1]]\n",
      "rewards:  [0]\n",
      "endflags:  [0]\n",
      "treeindices:  [127]\n",
      "importance sampling weights:  [1.]\n"
     ]
    }
   ],
   "source": [
    "## see here, a warning due to non-zero division (it's taking min over all possible values in data buffer)\n",
    "## have to fix by keeping the min somewhere else and updated, and then use it for this calculation\n",
    "## one way: keep a variable for the running min (O(1) to grab, O(BatchSize) to update-> np.min->batch)\n",
    "## another way: keep a mintree that will return the min value in O(log(n) + k)\n",
    "_states, _actions, _nextStates, _rewards, _endflags, _indicesBatch, _isWeights = pbuffer.sample( 1 )\n",
    "\n",
    "print( 'states: ', _states )\n",
    "print( 'actions: ', _actions )\n",
    "print( 'nextstates: ', _nextStates )\n",
    "print( 'rewards: ', _rewards )\n",
    "print( 'endflags: ', _endflags )\n",
    "print( 'treeindices: ', _indicesBatch )\n",
    "print( 'importance sampling weights: ', _isWeights )"
   ]
  },
  {
   "cell_type": "code",
   "execution_count": 13,
   "metadata": {},
   "outputs": [],
   "source": [
    "pbuffer.add( [0.2, 1.2], 1, [0.1, 1.1], 0, False )"
   ]
  },
  {
   "cell_type": "code",
   "execution_count": 14,
   "metadata": {},
   "outputs": [
    {
     "name": "stdout",
     "output_type": "stream",
     "text": [
      "states:  [[0.2 1.2]]\n",
      "actions:  [1]\n",
      "nextstates:  [[0.1 1.1]]\n",
      "rewards:  [0]\n",
      "endflags:  [0]\n",
      "treeindices:  [128]\n",
      "importance sampling weights:  [1.]\n"
     ]
    }
   ],
   "source": [
    "_states, _actions, _nextStates, _rewards, _endflags, _indicesBatch, _isWeights = pbuffer.sample( 1 )\n",
    "\n",
    "print( 'states: ', _states )\n",
    "print( 'actions: ', _actions )\n",
    "print( 'nextstates: ', _nextStates )\n",
    "print( 'rewards: ', _rewards )\n",
    "print( 'endflags: ', _endflags )\n",
    "print( 'treeindices: ', _indicesBatch )\n",
    "print( 'importance sampling weights: ', _isWeights )"
   ]
  },
  {
   "cell_type": "code",
   "execution_count": 15,
   "metadata": {},
   "outputs": [],
   "source": [
    "pbuffer.updatePriorities( np.array( [128] ), np.array( [100.] ) )"
   ]
  },
  {
   "cell_type": "code",
   "execution_count": 16,
   "metadata": {},
   "outputs": [
    {
     "name": "stdout",
     "output_type": "stream",
     "text": [
      "states:  [[0.2 1.2]]\n",
      "actions:  [1]\n",
      "nextstates:  [[0.1 1.1]]\n",
      "rewards:  [0]\n",
      "endflags:  [0]\n",
      "treeindices:  [128]\n",
      "importance sampling weights:  [0.33110487]\n"
     ]
    }
   ],
   "source": [
    "_states, _actions, _nextStates, _rewards, _endflags, _indicesBatch, _isWeights = pbuffer.sample( 1 )\n",
    "\n",
    "print( 'states: ', _states )\n",
    "print( 'actions: ', _actions )\n",
    "print( 'nextstates: ', _nextStates )\n",
    "print( 'rewards: ', _rewards )\n",
    "print( 'endflags: ', _endflags )\n",
    "print( 'treeindices: ', _indicesBatch )\n",
    "print( 'importance sampling weights: ', _isWeights )"
   ]
  },
  {
   "cell_type": "code",
   "execution_count": 17,
   "metadata": {},
   "outputs": [
    {
     "data": {
      "text/plain": [
       "15.84988284150878"
      ]
     },
     "execution_count": 17,
     "metadata": {},
     "output_type": "execute_result"
    }
   ],
   "source": [
    "pbuffer._maxpriority"
   ]
  },
  {
   "cell_type": "markdown",
   "metadata": {},
   "source": [
    "## Testing segmentrees from various implementations\n",
    "\n",
    "* Adaptation from openai-baselines + other sources\n",
    "* OpenAI-baselines"
   ]
  },
  {
   "cell_type": "code",
   "execution_count": 18,
   "metadata": {},
   "outputs": [],
   "source": [
    "import numpy as np\n",
    "import matplotlib.pyplot as plt\n",
    "from navigation.dqn.utils import sumtree\n",
    "from navigation.dqn.utils import segmentree"
   ]
  },
  {
   "cell_type": "code",
   "execution_count": 19,
   "metadata": {},
   "outputs": [],
   "source": [
    "smtree1 = sumtree.SumTree(8)\n",
    "smtree2 = segmentree.SumTree(8)\n",
    "\n",
    "_nodevals = { 'a' : 3, 'b' : 10, 'c' : 12, 'd' : 4, 'e' : 1, 'f' : 2, 'g' : 8 }\n",
    "\n",
    "for key in _nodevals.keys() :\n",
    "    smtree1.add( key, _nodevals[key] )\n",
    "    smtree2.add( key, _nodevals[key] )\n"
   ]
  },
  {
   "cell_type": "code",
   "execution_count": 20,
   "metadata": {},
   "outputs": [
    {
     "data": {
      "text/plain": [
       "40.0"
      ]
     },
     "execution_count": 20,
     "metadata": {},
     "output_type": "execute_result"
    }
   ],
   "source": [
    "smtree1.total()"
   ]
  },
  {
   "cell_type": "code",
   "execution_count": 21,
   "metadata": {},
   "outputs": [
    {
     "data": {
      "text/plain": [
       "40.0"
      ]
     },
     "execution_count": 21,
     "metadata": {},
     "output_type": "execute_result"
    }
   ],
   "source": [
    "smtree2.sum()"
   ]
  },
  {
   "cell_type": "code",
   "execution_count": 22,
   "metadata": {},
   "outputs": [
    {
     "data": {
      "text/plain": [
       "(13, 8.0, 'g')"
      ]
     },
     "execution_count": 22,
     "metadata": {},
     "output_type": "execute_result"
    }
   ],
   "source": [
    "smtree2.getNode(40.999998888)"
   ]
  },
  {
   "cell_type": "markdown",
   "metadata": {},
   "source": [
    "### checking update functionality"
   ]
  },
  {
   "cell_type": "code",
   "execution_count": 23,
   "metadata": {},
   "outputs": [
    {
     "name": "stdout",
     "output_type": "stream",
     "text": [
      "data:  ['a' 'b' 'c' 'd' 'e' 'f' 'g' 0]\n",
      "tree:  [40. 29. 11. 13. 16.  3.  8.  3. 10. 12.  4.  1.  2.  8.  0.]\n",
      "sum:  40.0\n",
      "data:  ['a' 'b' 'c' 'd' 'e' 'f' 'g' 0]\n",
      "tree:  [42. 31. 11. 15. 16.  3.  8.  5. 10. 12.  4.  1.  2.  8.  0.]\n",
      "sum:  42.0\n"
     ]
    }
   ],
   "source": [
    "# data, tree and sum before the update\n",
    "print( 'data: ', smtree2._data  )\n",
    "print( 'tree: ', smtree2._tree )\n",
    "print( 'sum: ', smtree2.sum() )\n",
    "\n",
    "# do an update (change 'a' from nodeval 3 to nodeval 5)\n",
    "smtree2.update( 7, 5 )\n",
    "\n",
    "# data, tree and sum after the update\n",
    "print( 'data: ', smtree2._data  )\n",
    "print( 'tree: ', smtree2._tree )\n",
    "print( 'sum: ', smtree2.sum() )"
   ]
  },
  {
   "cell_type": "markdown",
   "metadata": {},
   "source": [
    "### checking the probability distribution generated from both"
   ]
  },
  {
   "cell_type": "code",
   "execution_count": 24,
   "metadata": {},
   "outputs": [
    {
     "data": {
      "image/png": "[encoded data removed]",
      "text/plain": [
       "<Figure size 432x288 with 1 Axes>"
      ]
     },
     "metadata": {
      "needs_background": "light"
     },
     "output_type": "display_data"
    },
    {
     "data": {
      "image/png": "[encoded data removed]",
      "text/plain": [
       "<Figure size 432x288 with 1 Axes>"
      ]
     },
     "metadata": {
      "needs_background": "light"
     },
     "output_type": "display_data"
    }
   ],
   "source": [
    "NSAMPLES = 100000\n",
    "BUCKETS1 = [0] * len( smtree1._data )\n",
    "BUCKETS2 = [0] * len( smtree2._data )\n",
    "for _ in range( NSAMPLES ) :\n",
    "    _rnd = np.random.random()\n",
    "    \n",
    "    _indx, _, _data = smtree1.getNode( smtree1.total() * _rnd )\n",
    "    BUCKETS1[_indx - len( smtree1._data ) + 1] += 1\n",
    "    \n",
    "    _indx, _, _data = smtree2.getNode( smtree2.sum() * _rnd )\n",
    "    BUCKETS2[_indx - len( smtree2._data ) + 1] += 1\n",
    "    \n",
    "fig1, ax1 = plt.subplots()\n",
    "ax1.bar( ['a','b','c','d','e','f','g','h'], BUCKETS1 )\n",
    "\n",
    "fig2, ax2 = plt.subplots()\n",
    "ax2.bar( ['a','b','c','d','e','f','g','h'], BUCKETS2 )\n",
    "plt.show()    "
   ]
  },
  {
   "cell_type": "markdown",
   "metadata": {},
   "source": [
    "### testing the mintree"
   ]
  },
  {
   "cell_type": "code",
   "execution_count": 25,
   "metadata": {},
   "outputs": [
    {
     "name": "stdout",
     "output_type": "stream",
     "text": [
      "min:  0.0\n",
      "min:  -1.0\n",
      "min:  -1.0\n"
     ]
    }
   ],
   "source": [
    "mintree = segmentree.MinTree(8)\n",
    "mintree.add( 'a', 1 )\n",
    "mintree.add( 'b', 3 )\n",
    "mintree.add( 'c', 5 )\n",
    "mintree.add( 'd', 0 )\n",
    "\n",
    "print( 'min: ', mintree.min() )\n",
    "\n",
    "mintree.add( 'e', -1 )\n",
    "\n",
    "print( 'min: ', mintree.min() )\n",
    "\n",
    "mintree.add( 'f', 10 )\n",
    "\n",
    "print( 'min: ', mintree.min() )"
   ]
  },
  {
   "cell_type": "markdown",
   "metadata": {},
   "source": [
    "### testing openai-baselines segmentree"
   ]
  },
  {
   "cell_type": "code",
   "execution_count": 26,
   "metadata": {},
   "outputs": [],
   "source": [
    "from navigation.dqn.utils import openai_segmentree as op_segmentree"
   ]
  },
  {
   "cell_type": "code",
   "execution_count": 27,
   "metadata": {},
   "outputs": [
    {
     "name": "stdout",
     "output_type": "stream",
     "text": [
      "sum:  42\n"
     ]
    }
   ],
   "source": [
    "# a simple test case\n",
    "smtree3 = op_segmentree.SumSegmentTree(8)\n",
    "\n",
    "smtree3[0] = 3\n",
    "smtree3[1] = 10\n",
    "smtree3[2] = 12\n",
    "smtree3[3] = 4\n",
    "smtree3[4] = 1\n",
    "smtree3[5] = 2\n",
    "smtree3[6] = 8\n",
    "smtree3[7] = 2\n",
    "\n",
    "print( 'sum: ', smtree3.sum() )"
   ]
  },
  {
   "cell_type": "code",
   "execution_count": 28,
   "metadata": {},
   "outputs": [
    {
     "ename": "AssertionError",
     "evalue": "ERROR> sumtrees should return same total cumsum",
     "output_type": "error",
     "traceback": [
      "\u001b[0;31m---------------------------------------------------------------------------\u001b[0m",
      "\u001b[0;31mAssertionError\u001b[0m                            Traceback (most recent call last)",
      "\u001b[0;32m<ipython-input-28-a07b5a325bf6>\u001b[0m in \u001b[0;36m<module>\u001b[0;34m\u001b[0m\n\u001b[1;32m      3\u001b[0m \u001b[0m_sum3\u001b[0m \u001b[0;34m=\u001b[0m \u001b[0msmtree3\u001b[0m\u001b[0;34m.\u001b[0m\u001b[0msum\u001b[0m\u001b[0;34m(\u001b[0m\u001b[0;34m)\u001b[0m\u001b[0;34m\u001b[0m\u001b[0;34m\u001b[0m\u001b[0m\n\u001b[1;32m      4\u001b[0m \u001b[0;34m\u001b[0m\u001b[0m\n\u001b[0;32m----> 5\u001b[0;31m \u001b[0;32massert\u001b[0m \u001b[0;34m(\u001b[0m\u001b[0m_sum1\u001b[0m \u001b[0;34m==\u001b[0m \u001b[0m_sum2\u001b[0m\u001b[0;34m)\u001b[0m \u001b[0;32mand\u001b[0m \u001b[0;34m(\u001b[0m\u001b[0m_sum2\u001b[0m \u001b[0;34m==\u001b[0m \u001b[0m_sum3\u001b[0m\u001b[0;34m)\u001b[0m\u001b[0;34m,\u001b[0m \u001b[0;34m'ERROR> sumtrees should return same total cumsum'\u001b[0m\u001b[0;34m\u001b[0m\u001b[0;34m\u001b[0m\u001b[0m\n\u001b[0m\u001b[1;32m      6\u001b[0m \u001b[0;34m\u001b[0m\u001b[0m\n\u001b[1;32m      7\u001b[0m \u001b[0m_nodeval\u001b[0m \u001b[0;34m=\u001b[0m \u001b[0m_sum1\u001b[0m \u001b[0;34m*\u001b[0m \u001b[0mnp\u001b[0m\u001b[0;34m.\u001b[0m\u001b[0mrandom\u001b[0m\u001b[0;34m.\u001b[0m\u001b[0mrandom\u001b[0m\u001b[0;34m(\u001b[0m\u001b[0;34m)\u001b[0m\u001b[0;34m\u001b[0m\u001b[0;34m\u001b[0m\u001b[0m\n",
      "\u001b[0;31mAssertionError\u001b[0m: ERROR> sumtrees should return same total cumsum"
     ]
    }
   ],
   "source": [
    "_sum1 = smtree1.total()\n",
    "_sum2 = smtree2.sum()\n",
    "_sum3 = smtree3.sum()\n",
    "\n",
    "assert (_sum1 == _sum2) and (_sum2 == _sum3), 'ERROR> sumtrees should return same total cumsum'\n",
    "\n",
    "_nodeval = _sum1 * np.random.random()\n",
    "\n",
    "_indx1, _, _ = smtree1.getNode( _nodeval )\n",
    "_indx2, _, _ = smtree2.getNode( _nodeval )\n",
    "_indx3 = smtree3.find_prefixsum_idx( _nodeval ) + smtree3._capacity - 1\n",
    "\n",
    "print( 'indx1: ', _indx1 )\n",
    "print( 'indx2: ', _indx2 )\n",
    "print( 'indx3: ', _indx3 )"
   ]
  },
  {
   "cell_type": "markdown",
   "metadata": {},
   "source": [
    "## Testing image conversion (rgb->hsv)"
   ]
  },
  {
   "cell_type": "code",
   "execution_count": null,
   "metadata": {},
   "outputs": [],
   "source": [
    "import numpy as np\n",
    "import matplotlib.pyplot as plt\n",
    "\n",
    "from matplotlib.colors import rgb_to_hsv\n",
    "from matplotlib.colors import hsv_to_rgb"
   ]
  },
  {
   "cell_type": "code",
   "execution_count": null,
   "metadata": {},
   "outputs": [],
   "source": [
    "## let's use a simple image with pure r,g or b color\n",
    "N = 5\n",
    "\n",
    "# pure channels of NxN\n",
    "_allOn   = np.ones( (N,N) )\n",
    "_allOff = np.zeros( (N,N) )\n",
    "\n",
    "# create the images themselves (tranpose them to (h,w,d) for matplotlib)\n",
    "_redRgbImage   = np.transpose( np.stack( [_allOn, _allOff, _allOff] ), (1,2,0) )\n",
    "_greenRgbImage = np.transpose( np.stack( [_allOff, _allOn, _allOff] ), (1,2,0) )\n",
    "_blueRgbImage  = np.transpose( np.stack( [_allOff, _allOff, _allOn] ), (1,2,0) )\n",
    "_blackRgbImage = np.transpose( np.stack( [_allOff, _allOff, _allOff] ), (1,2,0) )\n",
    "_whiteRgbImage = np.transpose( np.stack( [_allOn, _allOn, _allOn] ), (1,2,0) )\n",
    "\n",
    "print( 'checking images dtype and shape -----------------' )\n",
    "print( 'red.shape   : ', _redRgbImage.shape )\n",
    "print( 'green.shape : ', _greenRgbImage.shape )\n",
    "print( 'blue.shape  : ', _blueRgbImage.shape )\n",
    "print( 'black.shape : ', _blackRgbImage.shape )\n",
    "print( 'white.shape : ', _whiteRgbImage.shape )\n",
    "\n",
    "print( 'red.shape   : ', _redRgbImage.dtype )\n",
    "print( 'green.shape : ', _greenRgbImage.dtype )\n",
    "print( 'blue.shape  : ', _blueRgbImage.dtype )\n",
    "print( 'black.shape : ', _blackRgbImage.dtype )\n",
    "print( 'white.shape : ', _whiteRgbImage.dtype )\n",
    "print( '-------------------------------------------------' )\n",
    "\n",
    "plt.grid( False )\n",
    "\n",
    "plt.subplot(151)\n",
    "plt.imshow( _redRgbImage )\n",
    "\n",
    "plt.subplot(152)\n",
    "plt.imshow( _greenRgbImage )\n",
    "\n",
    "plt.subplot(153)\n",
    "plt.imshow( _blueRgbImage )\n",
    "\n",
    "plt.subplot(154)\n",
    "plt.imshow( _blackRgbImage )\n",
    "\n",
    "plt.subplot(155)\n",
    "plt.imshow( _whiteRgbImage )"
   ]
  },
  {
   "cell_type": "code",
   "execution_count": null,
   "metadata": {},
   "outputs": [],
   "source": [
    "# convert to hsv\n",
    "_redHsvImage    = rgb_to_hsv( _redRgbImage )\n",
    "_greenHsvImage  = rgb_to_hsv( _greenRgbImage )\n",
    "_blueHsvImage   = rgb_to_hsv( _blueRgbImage )\n",
    "_blackHsvImage  = rgb_to_hsv( _blackRgbImage )\n",
    "_whiteHsvImage = rgb_to_hsv( _whiteRgbImage )\n",
    "\n",
    "print( _redHsvImage[...,0] )\n",
    "print( _greenHsvImage[...,0] )\n",
    "print( _blueHsvImage[...,0] )\n",
    "print( _blackHsvImage[...,0] )\n",
    "print( _whiteHsvImage[...,0] )\n",
    "\n",
    "print( _redHsvImage[...,0].shape )\n",
    "\n",
    "plt.subplot(151)\n",
    "plt.imshow( _redHsvImage[...,0], cmap = 'gray', vmin = 0., vmax = 1. )\n",
    "\n",
    "plt.subplot(152)\n",
    "plt.imshow( _greenHsvImage[...,0], cmap = 'gray', vmin = 0., vmax = 1. )\n",
    "\n",
    "plt.subplot(153)\n",
    "plt.imshow( _blueHsvImage[...,0], cmap = 'gray', vmin = 0., vmax = 1. )\n",
    "\n",
    "plt.subplot(154)\n",
    "plt.imshow( _blackHsvImage[...,0], cmap = 'gray', vmin = 0., vmax = 1. )\n",
    "\n",
    "plt.subplot(155)\n",
    "plt.imshow( _whiteHsvImage[...,0], cmap = 'gray', vmin = 0., vmax = 1. )"
   ]
  },
  {
   "cell_type": "markdown",
   "metadata": {},
   "source": [
    "## Testing the visual-banana environment"
   ]
  },
  {
   "cell_type": "code",
   "execution_count": null,
   "metadata": {},
   "outputs": [],
   "source": [
    "import os\n",
    "import sys\n",
    "import numpy as np\n",
    "import matplotlib.pyplot as plt\n",
    "\n",
    "from tqdm import tqdm\n",
    "from matplotlib.colors import rgb_to_hsv\n",
    "from navigation.envs import mlagents"
   ]
  },
  {
   "cell_type": "code",
   "execution_count": null,
   "metadata": {},
   "outputs": [],
   "source": [
    "# visual-banana executable path\n",
    "EXEC_VISUAL_BANANA_PATH = os.path.join( os.getcwd(), 'executables/VisualBanana/VisualBanana.x86_64' )"
   ]
  },
  {
   "cell_type": "code",
   "execution_count": null,
   "metadata": {},
   "outputs": [],
   "source": [
    "# initialize the environment and analyze it a bit\n",
    "_env = mlagents.createDiscreteActionsEnv( EXEC_VISUAL_BANANA_PATH, envType = 'visual', workerID = 0 )"
   ]
  },
  {
   "cell_type": "code",
   "execution_count": null,
   "metadata": {},
   "outputs": [],
   "source": [
    "# analyze some info from the environment\n",
    "print( 'observation space shape: ', _env.obsShape )\n",
    "print( 'number of actions: ', _env.numActions )"
   ]
  },
  {
   "cell_type": "code",
   "execution_count": null,
   "metadata": {},
   "outputs": [],
   "source": [
    "# reset the environment and check the observations\n",
    "_state = _env.reset( training = False )\n",
    "\n",
    "print( 'type(state) : ', type(_state) )\n",
    "print( 'state.shape : ', _state.shape )\n",
    "print( 'state.dtype : ', _state.dtype )\n",
    "print( 'state.max   : ', np.max( _state ) )\n",
    "print( 'state.min   : ', np.min( _state ) )"
   ]
  },
  {
   "cell_type": "code",
   "execution_count": null,
   "metadata": {},
   "outputs": [],
   "source": [
    "# run the environment for an episode\n",
    "for _ in tqdm( range( 1000 ) ) :\n",
    "    _state = _env.reset( training = True )\n",
    "    \n",
    "    while True :\n",
    "    \n",
    "        _action = np.random.randint( _env.numActions )\n",
    "        _snext, _reward, _done, _ = _env.step( 0 )\n",
    "    \n",
    "        if _done :\n",
    "            break"
   ]
  },
  {
   "cell_type": "markdown",
   "metadata": {},
   "source": [
    "### checking the hsv conversion on the observations"
   ]
  },
  {
   "cell_type": "code",
   "execution_count": null,
   "metadata": {},
   "outputs": [],
   "source": [
    "_state = _env.reset( training = False )\n",
    "_hsvState = rgb_to_hsv( np.transpose( _state, (1,2,0) ) )\n",
    "\n",
    "def rgb2gray(rgb):\n",
    "    return 0.299 * rgb[0,...] + 0.587 * rgb[1,...] + 0.114 * rgb[2,...]\n",
    "\n",
    "_grayState = rgb2gray(_state)\n",
    "print( 'graystate.shape: ', _grayState.shape )\n",
    "print( _grayState[2] )\n",
    "\n",
    "plt.figure( figsize=(15,15) )\n",
    "plt.subplot(151)\n",
    "plt.imshow( np.transpose( _state, (1,2,0) ) )\n",
    "plt.title( 'rgb-original' )\n",
    "\n",
    "plt.subplot(152)\n",
    "plt.imshow( _hsvState[...,0], cmap = 'gray', vmin = 0., vmax = 1. )\n",
    "plt.title( 'hue-channel' )\n",
    "\n",
    "plt.subplot(153)\n",
    "plt.imshow( _hsvState[...,1], cmap = 'gray', vmin = 0., vmax = 1. )\n",
    "plt.title( 'saturation-channel' )\n",
    "\n",
    "plt.subplot(154)\n",
    "plt.imshow( _hsvState[...,2], cmap = 'gray', vmin = 0., vmax = 1. )\n",
    "plt.title( 'value-channel' )\n",
    "\n",
    "plt.subplot(155)\n",
    "plt.imshow( _grayState, cmap = 'gray', vmin = 0., vmax = 1. )\n",
    "plt.title( 'grayscale' )"
   ]
  }
 ],
 "metadata": {
  "kernelspec": {
   "display_name": "Python 3",
   "language": "python",
   "name": "python3"
  },
  "language_info": {
   "codemirror_mode": {
    "name": "ipython",
    "version": 3
   },
   "file_extension": ".py",
   "mimetype": "text/x-python",
   "name": "python",
   "nbconvert_exporter": "python",
   "pygments_lexer": "ipython3",
   "version": "3.6.8"
  }
 },
 "nbformat": 4,
 "nbformat_minor": 2
}
