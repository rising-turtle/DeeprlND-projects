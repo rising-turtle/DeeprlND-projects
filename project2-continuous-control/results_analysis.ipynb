{
 "cells": [
  {
   "cell_type": "markdown",
   "metadata": {},
   "source": [
    "# Visualization of training results\n",
    "\n",
    "This notebook uses the saved training data and shows the results visually for further analysis. I tried to follow the guidelines from [this](http://rll.berkeley.edu/deeprlcourse/docs/plotting_handout.pdf) handout of the cs294 DeepRL course from UCBerkeley, in which it gives various suggestions for storing training data, making visualizations, etc..\n",
    "\n",
    "Following these suggestions, the method used for making visualizations of the training results is as follows:\n",
    "\n",
    "* Saving training results into tensorboard runs and then export them to .csv files for later plotting.\n",
    "* Loading the results from the saved .csv files (logger.py) after all training runs have been made (various runs with same hyperparameters, and also with two different seeds)\n",
    "* Visualizing the results (this notebook) using std plots of the various saved statistics."
   ]
  },
  {
   "cell_type": "code",
   "execution_count": 1,
   "metadata": {},
   "outputs": [],
   "source": [
    "import os\n",
    "import numpy as np\n",
    "import matplotlib.pyplot as plt\n",
    "\n",
    "import logger\n",
    "import plotter\n",
    "\n",
    "from IPython.core.debugger import set_trace\n",
    "\n",
    "%matplotlib inline"
   ]
  },
  {
   "cell_type": "markdown",
   "metadata": {},
   "source": [
    "## Plot single training runs\n",
    "\n",
    "This part deals with the visualization of single runs (for testing purposes). There is going to be at least one training\n",
    "session .pkl file in the repo (and perhaps no more, as each weights ~ 10MB)."
   ]
  },
  {
   "cell_type": "markdown",
   "metadata": {},
   "source": [
    "* First, let's define some helper functions to visualize single runs:"
   ]
  },
  {
   "cell_type": "code",
   "execution_count": 2,
   "metadata": {},
   "outputs": [],
   "source": [
    "# folder where all runs are located (exported csv files from tensorboard)\n",
    "BASE_FOLDER = os.path.join( os.getcwd(), 'results/csv' )\n",
    "\n",
    "# a helper to plot a training series\n",
    "def plotSeries( series, \n",
    "                color = 'r', \n",
    "                title = '', \n",
    "                linestyle = '-', \n",
    "                fig = None, \n",
    "                axes = None, \n",
    "                isScore = True ) :\n",
    "    # iteration indices (recall, smoothed start at step 100)\n",
    "    _steps = series[0]\n",
    "    _data = series[1]\n",
    "    \n",
    "    if fig is None or axes is None :\n",
    "        fig, axes = plt.subplots()\n",
    "    \n",
    "    axes.grid( True )\n",
    "    axes.plot( _steps, _data, color = color, linestyle = linestyle )\n",
    "    axes.set_title( title )\n",
    "    \n",
    "    # if scores plot, then plot the requirement\n",
    "    if isScore :\n",
    "        axes.axhline( 30., linestyle = '--' )\n",
    "    \n",
    "    return fig, axes\n",
    "\n",
    "# a helper to plot the results of a run\n",
    "def plotSingleRun( sessionId, title = 'Scores during training', showAll = True, fig = None, axes = None, useRandomColor = False ) :\n",
    "    # path to .csv file (from sessionId)\n",
    "    _filepathAll = os.path.join( BASE_FOLDER, 'run_' + sessionId + '_tensorboard_summary_mean_score.csv' )\n",
    "    _filepathAvg = os.path.join( BASE_FOLDER, 'run_' + sessionId + '_tensorboard_summary_mean_score_window.csv'  )\n",
    "    \n",
    "    # load all training results\n",
    "    _seriesAll = logger.loadTrainingResultsCsv( _filepathAll )\n",
    "    _seriesAvg = logger.loadTrainingResultsCsv( _filepathAvg )\n",
    "    \n",
    "    if fig is None or axes is None :\n",
    "        fig, axes = plt.subplots()\n",
    "    \n",
    "    # plot all results available\n",
    "    if showAll :\n",
    "        fig, axes = plotSeries( _seriesAll, \n",
    "                                color = 'b' if not useRandomColor else np.random.rand( 3, ), \n",
    "                                title = title,\n",
    "                                fig = fig,\n",
    "                                axes = axes )\n",
    "        \n",
    "    fig, axes = plotSeries( _seriesAvg, \n",
    "                            color = 'r' if not useRandomColor else np.random.rand( 3, ), \n",
    "                            title = title,\n",
    "                            fig = fig,\n",
    "                            axes = axes,\n",
    "                            linestyle = '-')\n",
    "    \n",
    "    axes.set_xlabel( 'Episodes' )\n",
    "    axes.set_ylabel( 'Score' )\n",
    "    \n",
    "    return fig, axes"
   ]
  },
  {
   "cell_type": "markdown",
   "metadata": {},
   "source": [
    "* Plot some of the results of the *submission* training sessions\n",
    "\n",
    "    * All submissions sessions have the pattern: **banana\\_submission\\_run\\_{run}\\_pytorch\\_seed\\_{seed}**\n",
    "    * All experiment-1 sessions have the pattern: **banana\\_hypertests\\_config\\_1\\_{1|2}\\_run\\_{run}\\_pytorch\\_seed\\_{seed}**\n"
   ]
  },
  {
   "cell_type": "code",
   "execution_count": null,
   "metadata": {},
   "outputs": [],
   "source": [
    "# plotting a single run from the submissions sessions (using gradient clipping)\n",
    "plotSingleRun( 'session_submission_seed_0', title = 'Scores - submission (with clipping)' )\n",
    "\n",
    "# plotting a single run from the submissions sessions (not using gradient clipping)\n",
    "plotSingleRun( 'session_submission_no_clip_seed_0', title = 'Scores - submission (no clipping)' )"
   ]
  },
  {
   "cell_type": "markdown",
   "metadata": {},
   "source": [
    "* Plot some of the results of experiment 1.1 (batchnorm + clipping)\n",
    "\n",
    "    * All experiment-1.1 sessions have the pattern: **session\\_submission\\_seed\\_{seed}**\n"
   ]
  },
  {
   "cell_type": "code",
   "execution_count": null,
   "metadata": {},
   "outputs": [],
   "source": [
    "# plotting a single run from the experiment-1.1 sessions (seed=0)\n",
    "plotSingleRun( 'session_submission_seed_0', title = 'Scores - experiment 1.1 - seed=0' )\n",
    "\n",
    "# plotting a single run from the experiment-1.1 sessions (seed=1)\n",
    "plotSingleRun( 'session_submission_seed_1', title = 'Scores - experiment 1.1 - seed=1' )"
   ]
  },
  {
   "cell_type": "markdown",
   "metadata": {},
   "source": [
    "* Plot some of the results of experiment 1.2 (batchnorm + no-clipping)\n",
    "\n",
    "    * All experiment-1.1 sessions have the pattern: **session\\_submission\\_no\\_clip\\_seed\\_{seed}**\n"
   ]
  },
  {
   "cell_type": "code",
   "execution_count": null,
   "metadata": {},
   "outputs": [],
   "source": [
    "# plotting a single run from the experiment-1.2 sessions (seed=0)\n",
    "plotSingleRun( 'session_submission_no_clip_seed_0', title = 'Scores - experiment 1.2 - seed=0' )\n",
    "\n",
    "# plotting a single run from the experiment-1.2 sessions (seed=1)\n",
    "plotSingleRun( 'session_submission_no_clip_seed_1', title = 'Scores - experiment 1.2 - seed=1' )"
   ]
  },
  {
   "cell_type": "markdown",
   "metadata": {},
   "source": [
    "* Plot some of the results of experiment 2.1 (no-batchnorm + clipping)\n",
    "\n",
    "    * All experiment-1.1 sessions have the pattern: **session\\_submission\\_no\\_batchnorm\\_seed\\_{seed}**\n"
   ]
  },
  {
   "cell_type": "code",
   "execution_count": null,
   "metadata": {},
   "outputs": [],
   "source": [
    "# plotting a single run from the experiment-2.1 sessions (seed=0)\n",
    "plotSingleRun( 'session_submission_no_batchnorm_seed_0', title = 'Scores - experiment 2.1 - seed=0' )\n",
    "\n",
    "# plotting a single run from the experiment-2.1 sessions (seed=1)\n",
    "plotSingleRun( 'session_submission_no_batchnorm_seed_1', title = 'Scores - experiment 2.1 - seed=1' )"
   ]
  },
  {
   "cell_type": "markdown",
   "metadata": {},
   "source": [
    "* Plot some of the results of experiment 2.2 (no-batchnorm + no-clipping)\n",
    "\n",
    "    * All experiment-1.1 sessions have the pattern: **session\\_submission\\_no\\_batchnorm\\_no\\_clip\\_seed\\_{seed}**\n"
   ]
  },
  {
   "cell_type": "code",
   "execution_count": null,
   "metadata": {},
   "outputs": [],
   "source": [
    "# plotting a single run from the experiment-2.2 sessions (seed=0)\n",
    "plotSingleRun( 'session_submission_no_batchnorm_no_clip_seed_0', title = 'Scores - experiment 2.2 - seed=0' )\n",
    "\n",
    "# plotting a single run from the experiment-2.2 sessions (seed=1)\n",
    "plotSingleRun( 'session_submission_no_batchnorm_no_clip_seed_1', title = 'Scores - experiment 2.2 - seed=1' )"
   ]
  },
  {
   "cell_type": "markdown",
   "metadata": {},
   "source": [
    "* Plotting (running averages) all runs into one graph (exp. 1.1 + exp. 1.2)"
   ]
  },
  {
   "cell_type": "code",
   "execution_count": null,
   "metadata": {},
   "outputs": [],
   "source": [
    "# plotting all runs from the submissions sessions (exp. 1.1)\n",
    "fig, axes = None, None\n",
    "for seed in [0,1,2,3,4,5] :\n",
    "    fig, axes = plotSingleRun( 'session_submission_seed_' + str(seed), \n",
    "                               title = 'Scores - all runs in submission (exp. 1.1) - seed %s' % str(seed), \n",
    "                               fig = fig, \n",
    "                               axes = axes, \n",
    "                               showAll = False,\n",
    "                               useRandomColor = True )\n",
    "\n",
    "# plotting a single run from the submissions sessions (exp. 1.2)\n",
    "fig, axes = None, None\n",
    "for seed in [0,1,2,3,4,5] :\n",
    "    fig, axes = plotSingleRun( 'session_submission_no_clip_seed_' + str(seed), \n",
    "                               title = 'Scores - all runs in submission (exp. 1.2) - seed %s' % str(seed), \n",
    "                               fig = fig, \n",
    "                               axes = axes, \n",
    "                               showAll = False,\n",
    "                               useRandomColor = True )"
   ]
  },
  {
   "cell_type": "markdown",
   "metadata": {},
   "source": [
    "* Plotting (running averages) all runs into one graph (exp. 2.1 + exp. 2.2)"
   ]
  },
  {
   "cell_type": "code",
   "execution_count": null,
   "metadata": {},
   "outputs": [],
   "source": [
    "# plotting all runs from the submissions sessions (exp. 2.1)\n",
    "fig, axes = None, None\n",
    "for seed in [0,1,2,3,4,5] :\n",
    "    fig, axes = plotSingleRun( 'session_submission_no_batchnorm_no_clip_seed_' + str(seed), \n",
    "                               title = 'Scores - all runs in submission (exp. 2.1) - seed %s' % str(seed), \n",
    "                               fig = fig, \n",
    "                               axes = axes, \n",
    "                               showAll = False,\n",
    "                               useRandomColor = True )\n",
    "\n",
    "# plotting a single run from the submissions sessions (exp. 2.2)\n",
    "fig, axes = None, None\n",
    "for seed in [0,1,2,3,4,5] :\n",
    "    fig, axes = plotSingleRun( 'session_submission_no_batchnorm_no_clip_seed_' + str(seed), \n",
    "                               title = 'Scores - all runs in submission (exp. 2.2) - seed %s' % str(seed), \n",
    "                               fig = fig, \n",
    "                               axes = axes, \n",
    "                               showAll = False,\n",
    "                               useRandomColor = True )"
   ]
  },
  {
   "cell_type": "markdown",
   "metadata": {},
   "source": [
    "## Plotting various runs using std-plots\n",
    "\n",
    "We run multiple training **sessions** with different configurations and group them in **experiments**. The results in this section will consist on std-plots with regions shaded to represent standard deviation over runs over same experiment, and the mean shown as a single strong lineplot in between.\n",
    "\n",
    "The experiments for which we have various runs consists of the following:\n",
    "\n",
    "1. Experiment 1.1 : Batchnorm + gradient clipping\n",
    "2. Experiment 1.2 : Batchnorm + NO gradient clipping\n",
    "3. Experiment 2.1 : NO Batchnorm + gradient clipping\n",
    "4. Experiment 2.2 : NO Batchnorm + NO gradient clipping"
   ]
  },
  {
   "cell_type": "markdown",
   "metadata": {},
   "source": [
    "* First, let's define a helper functions to load all runs for one configuration. Recall that all experiments have a common base name, given as follows:\n",
    "\n",
    "    * Submission   : banana\\_submission\\_run\\_{0,1,2,3,4}\\_pytorch\\_seed\\_{0,1,2}\n",
    "    * Experiment-1 : banana\\_hypertests\\_config\\_1\\_{1,2}\\_run\\_{0,1,2,3,4}\\_pytorch\\_seed\\_{0,1}\n",
    "    * Experiment-2 : banana\\_improvements\\_config\\_2\\_{1,2,3}\\_run\\_{0,1,2,3,4}\\_pytorch\\_seed\\_{0,1}\n",
    "    * Experiment-3 : banana\\_exploration\\_config\\_3\\_{1,2}\\_run\\_{0,1,2,3,4}\\_pytorch\\_seed\\_{0,1}"
   ]
  },
  {
   "cell_type": "code",
   "execution_count": 3,
   "metadata": {},
   "outputs": [],
   "source": [
    "# same common loader function, as the experiments have ...\n",
    "# a common naming-structure along experiments\n",
    "#\n",
    "# session_submission_[no_batchnorm_][no_clip_]seed_{seed}\n",
    "#\n",
    "\n",
    "from itertools import product\n",
    "from IPython.core.debugger import set_trace\n",
    "\n",
    "def loadExperimentResults( batchnorm = [1], clipping = [1], seeds = [0,1,2,3,4,5] ) :\n",
    "    _BATCHNORM_FLAGS = { 1 : '', 2: 'no_batchnorm_' }\n",
    "    _CLIPPING_FLAGS = { 1 : '', 2: 'no_clip_' }\n",
    "    _sessionsResults = { 'scoresAvg' : [],\n",
    "                         'scoresAll' : [] }\n",
    "    \n",
    "    _minLenAll = 10000000\n",
    "    _minLenAvg = 10000000\n",
    "    \n",
    "    for sessBatchnormFlag, sessClippingFlag, sessSeed in product( batchnorm, clipping, seeds ) :\n",
    "        _sessionName = 'session_submission_' + \\\n",
    "                       _BATCHNORM_FLAGS[sessBatchnormFlag] + \\\n",
    "                       _CLIPPING_FLAGS[sessClippingFlag] + \\\n",
    "                       'seed_' + str(sessSeed)\n",
    "        \n",
    "        _resultsFilepathAll = os.path.join( BASE_FOLDER, 'run_' + _sessionName + '_tensorboard_summary_mean_score.csv' )\n",
    "        _resultsFilepathAvg = os.path.join( BASE_FOLDER, 'run_' + _sessionName + '_tensorboard_summary_mean_score_window.csv' )\n",
    "        \n",
    "        _resultsAll = logger.loadTrainingResultsCsv( _resultsFilepathAll )\n",
    "        _resultsAvg = logger.loadTrainingResultsCsv( _resultsFilepathAvg )\n",
    "\n",
    "        _minLenAll = min( len( _resultsAll[1] ), int( _minLenAll ) )\n",
    "        _minLenAvg = min( len( _resultsAvg[1] ), int( _minLenAvg ) )\n",
    "        \n",
    "        _sessionsResults['scoresAvg'].append( _resultsAvg[1] )\n",
    "        _sessionsResults['scoresAll'].append( _resultsAll[1] )\n",
    "\n",
    "    # normalize to min-length, as some runs are missing a few data points\n",
    "    for i in range( len( _sessionsResults['scoresAll'] ) ):\n",
    "        _sessionsResults['scoresAll'][i] = _sessionsResults['scoresAll'][i][:_minLenAll]\n",
    "    for i in range( len( _sessionsResults['scoresAvg'] ) ):\n",
    "        _sessionsResults['scoresAvg'][i] = _sessionsResults['scoresAvg'][i][:_minLenAvg]\n",
    "        \n",
    "        \n",
    "    return _sessionsResults"
   ]
  },
  {
   "cell_type": "markdown",
   "metadata": {},
   "source": [
    "* Std-plots for the **submission** runs"
   ]
  },
  {
   "cell_type": "code",
   "execution_count": 12,
   "metadata": {},
   "outputs": [
    {
     "data": {
      "text/plain": [
       "<matplotlib.lines.Line2D at 0x7ff206f49470>"
      ]
     },
     "execution_count": 12,
     "metadata": {},
     "output_type": "execute_result"
    },
    {
     "data": {
      "image/png": "[encoded data removed]",
      "text/plain": [
       "<Figure size 432x288 with 1 Axes>"
      ]
     },
     "metadata": {
      "needs_background": "light"
     },
     "output_type": "display_data"
    },
    {
     "data": {
      "image/png": "[encoded data removed]",
      "text/plain": [
       "<Figure size 432x288 with 1 Axes>"
      ]
     },
     "metadata": {
      "needs_background": "light"
     },
     "output_type": "display_data"
    }
   ],
   "source": [
    "# plotting all runs from exp. 1.1 sessions (batchnorm + clipping)\n",
    "seeds = [0,1,2,3,4,5]\n",
    "_submissionResults = loadExperimentResults( batchnorm = [1], clipping = [1], seeds = seeds )\n",
    "axes = plotter.drawStdPlot( _submissionResults['scoresAll'], \n",
    "                            title = 'Scores for exp. 1.1 - all seeds',\n",
    "                            xlabel = 'Episodes',\n",
    "                            ylabel = 'Scores',\n",
    "                            color = 'c' )\n",
    "\n",
    "axes.grid( True )\n",
    "axes.axhline( 30. )\n",
    "\n",
    "# plotting all runs from exp. 1.2 sessions (batchnorm + NO clipping)\n",
    "seeds = [0,1,2,3,4,5]\n",
    "_submissionResults = loadExperimentResults( batchnorm = [1], clipping = [2], seeds = seeds )\n",
    "axes = plotter.drawStdPlot( _submissionResults['scoresAll'], \n",
    "                            title = 'Scores for exp. 1.2 - all seeds',\n",
    "                            xlabel = 'Episodes',\n",
    "                            ylabel = 'Scores',\n",
    "                            color = 'm',\n",
    "                            axes = None )\n",
    "\n",
    "axes.grid( True )\n",
    "axes.axhline( 30. )"
   ]
  },
  {
   "cell_type": "markdown",
   "metadata": {},
   "source": [
    "* Std-plots for the **experiment-1** runs"
   ]
  },
  {
   "cell_type": "code",
   "execution_count": null,
   "metadata": {},
   "outputs": [],
   "source": [
    "# plotting all runs from the experiment-1 sessions (seed 0)\n",
    "fig, axes = None, None\n",
    "colors = ['r','g','b']\n",
    "for i, config in enumerate( [1,2] ) :\n",
    "    _experiment1ResultsSeed0 = loadExperimentResults( 'hypertests', 1, [config], [0,1,2,3,4], [0] )\n",
    "    axes = plotter.drawStdPlot( _experiment1ResultsSeed0['scoresAvg'], \n",
    "                                title = 'Scores for experiment 1 - seed 0',\n",
    "                                xlabel = 'Episodes',\n",
    "                                ylabel = 'Scores',\n",
    "                                startStep = 100,\n",
    "                                color = colors[i], \n",
    "                                axes = axes )\n",
    "\n",
    "axes.grid( True )\n",
    "axes.axhline( 13. )\n",
    "axes.legend( ['Moderate exploration', 'Less exploration'] )\n",
    "\n",
    "# plotting all runs from the experiment-1 sessions (seed1)\n",
    "fig, axes = None, None\n",
    "colors = ['r','g','b']\n",
    "for i, config in enumerate( [1,2] ) :\n",
    "    _experiment1ResultsSeed1 = loadExperimentResults( 'hypertests', 1, [config], [0,1,2,3,4], [1] )\n",
    "    axes = plotter.drawStdPlot( _experiment1ResultsSeed1['scoresAvg'], \n",
    "                                title = 'Scores for experiment 1 - seed 1',\n",
    "                                xlabel = 'Episodes',\n",
    "                                ylabel = 'Scores',\n",
    "                                startStep = 100,\n",
    "                                color = colors[i], \n",
    "                                axes = axes )\n",
    "\n",
    "axes.grid( True )\n",
    "axes.axhline( 13. )\n",
    "axes.legend( ['Moderate exploration', 'Less exploration'] )"
   ]
  },
  {
   "cell_type": "markdown",
   "metadata": {},
   "source": [
    "* Std-plots for the **experiment-2** runs"
   ]
  },
  {
   "cell_type": "code",
   "execution_count": null,
   "metadata": {},
   "outputs": [],
   "source": [
    "# plotting all runs from the experiment-2 sessions (seed 0)\n",
    "fig, axes = None, None\n",
    "colors = ['r','g','b','k']\n",
    "for i, config in enumerate( [0,1,2,3] ) :\n",
    "    if i == 0 :\n",
    "        _experiment2ResultsSeed0 = loadExperimentResults( 'hypertests', 1, [1], [0,1,2,3,4], [0] )\n",
    "    else :\n",
    "        _experiment2ResultsSeed0 = loadExperimentResults( 'improvements', 2, [config], [0,1,2,3,4], [0] )\n",
    "    axes = plotter.drawStdPlot( _experiment2ResultsSeed0['scoresAvg'], \n",
    "                                title = 'Scores for experiment 2 - seed 0',\n",
    "                                xlabel = 'Episodes',\n",
    "                                ylabel = 'Scores',\n",
    "                                startStep = 100,\n",
    "                                color = colors[i], \n",
    "                                axes = axes )\n",
    "\n",
    "axes.grid( True )\n",
    "axes.axhline( 13. )\n",
    "axes.legend( ['Vanilla', 'DDQN', 'PER', 'DDQN + PER'] )\n",
    "\n",
    "# plotting all runs from the experiment-2 sessions (seed 1)\n",
    "fig, axes = None, None\n",
    "colors = ['r','g','b','k']\n",
    "for i, config in enumerate( [0,1,2,3] ) :\n",
    "    if i == 0 :\n",
    "        _experiment2ResultsSeed1 = loadExperimentResults( 'hypertests', 1, [1], [0,1,2,3,4], [1] )\n",
    "    else :\n",
    "        _experiment2ResultsSeed1 = loadExperimentResults( 'improvements', 2, [config], [0,1,2,3,4], [1] )\n",
    "    axes = plotter.drawStdPlot( _experiment2ResultsSeed1['scoresAvg'], \n",
    "                                title = 'Scores for experiment 2 - seed 1',\n",
    "                                xlabel = 'Episodes',\n",
    "                                ylabel = 'Scores',\n",
    "                                startStep = 100,\n",
    "                                color = colors[i], \n",
    "                                axes = axes )\n",
    "\n",
    "axes.grid( True )\n",
    "axes.axhline( 13. )\n",
    "axes.legend( ['Vanilla', 'DDQN', 'PER', 'DDQN + PER'] )"
   ]
  },
  {
   "cell_type": "markdown",
   "metadata": {},
   "source": [
    "* Std-plots for the **experiment-3** runs"
   ]
  },
  {
   "cell_type": "code",
   "execution_count": null,
   "metadata": {},
   "outputs": [],
   "source": [
    "# plotting all runs from the experiment-3 sessions (seed 0)\n",
    "fig, axes = None, None\n",
    "colors = ['r','g','b']\n",
    "for i, config in enumerate( [1,2] ) :\n",
    "    _experiment3ResultsSeed0 = loadExperimentResults( 'exploration', 3, [config], [0,1,2,3,4], [0] )\n",
    "    axes = plotter.drawStdPlot( _experiment3ResultsSeed0['scoresAvg'], \n",
    "                                title = 'Scores for experiment 3 - seed 0',\n",
    "                                xlabel = 'Episodes',\n",
    "                                ylabel = 'Scores',\n",
    "                                startStep = 100,\n",
    "                                color = colors[i], \n",
    "                                axes = axes )\n",
    "\n",
    "axes.grid( True )\n",
    "axes.axhline( 13. )\n",
    "axes.legend( ['Vanilla', 'DDQN + PER'] )\n",
    "\n",
    "# plotting all runs from the experiment-3 sessions (seed 1)\n",
    "fig, axes = None, None\n",
    "colors = ['r','g','b']\n",
    "for i, config in enumerate( [1,2] ) :\n",
    "    _experiment3ResultsSeed1 = loadExperimentResults( 'exploration', 3, [config], [0,1,2,3,4], [1] )\n",
    "    axes = plotter.drawStdPlot( _experiment3ResultsSeed1['scoresAvg'], \n",
    "                                title = 'Scores for experiment 3 - seed 1',\n",
    "                                xlabel = 'Episodes',\n",
    "                                ylabel = 'Scores',\n",
    "                                startStep = 100,\n",
    "                                color = colors[i], \n",
    "                                axes = axes )\n",
    "\n",
    "axes.grid( True )\n",
    "axes.axhline( 13. )\n",
    "axes.legend( ['Vanilla', 'DDQN + PER'] )"
   ]
  }
 ],
 "metadata": {
  "kernelspec": {
   "display_name": "Python 3",
   "language": "python",
   "name": "python3"
  },
  "language_info": {
   "codemirror_mode": {
    "name": "ipython",
    "version": 3
   },
   "file_extension": ".py",
   "mimetype": "text/x-python",
   "name": "python",
   "nbconvert_exporter": "python",
   "pygments_lexer": "ipython3",
   "version": "3.6.8"
  }
 },
 "nbformat": 4,
 "nbformat_minor": 2
}
